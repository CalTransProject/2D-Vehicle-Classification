{
 "cells": [
  {
   "cell_type": "code",
   "execution_count": 1,
   "id": "8f0efbb4-02df-40b7-9d9c-712082d861bb",
   "metadata": {},
   "outputs": [],
   "source": [
    "import cv2"
   ]
  },
  {
   "cell_type": "markdown",
   "id": "c6f0b555-9540-4a8b-b711-63c7ee51e126",
   "metadata": {},
   "source": [
    "# Program to extract frames using OpenCV.\n",
    "\n",
    "- <font size = 4> [Credit](https://www.geeksforgeeks.org/python-program-extract-frames-using-opencv/)\n"
   ]
  },
  {
   "cell_type": "code",
   "execution_count": 2,
   "id": "0ce613b6-926f-43eb-ab7f-ff0cb072458a",
   "metadata": {},
   "outputs": [],
   "source": [
    "# Function to extract frames \n",
    "def FrameCapture(path): \n",
    "  \n",
    "    # Path to video file \n",
    "    vidObj = cv2.VideoCapture(path) \n",
    "  \n",
    "    # Used as counter variable \n",
    "    count = 0\n",
    "  \n",
    "    # checks whether frames were extracted \n",
    "    success = 1\n",
    "  \n",
    "    while success: \n",
    "  \n",
    "        # vidObj object calls read \n",
    "        # function extract frames \n",
    "        success, image = vidObj.read() \n",
    "  \n",
    "        # Saves the frames with frame-count \n",
    "        cv2.imwrite(\"%d.jpg\" % count, image) \n",
    "  \n",
    "        count += 1\n"
   ]
  },
  {
   "cell_type": "code",
   "execution_count": 3,
   "id": "e9f97921-cdad-4849-bf43-385ab4529c47",
   "metadata": {},
   "outputs": [],
   "source": [
    "#Path to Video\n",
    "path = \"/Users/Robin1/Desktop/LIDAR Project/Zelzah and Plummer Dataset/Zelzah and Plummer 1 2023-03-20 11-48-13.mkv\""
   ]
  },
  {
   "cell_type": "code",
   "execution_count": null,
   "id": "a2f2301f-7bda-46a6-bd32-75fa8cb0fcc7",
   "metadata": {},
   "outputs": [],
   "source": [
    "#Calling Function to get Frames\n",
    "FrameCapture(path)"
   ]
  },
  {
   "cell_type": "code",
   "execution_count": null,
   "id": "c65a7ccb-5dc3-4f50-a2c4-224674298005",
   "metadata": {},
   "outputs": [],
   "source": []
  }
 ],
 "metadata": {
  "kernelspec": {
   "display_name": "Python 3 (ipykernel)",
   "language": "python",
   "name": "python3"
  },
  "language_info": {
   "codemirror_mode": {
    "name": "ipython",
    "version": 3
   },
   "file_extension": ".py",
   "mimetype": "text/x-python",
   "name": "python",
   "nbconvert_exporter": "python",
   "pygments_lexer": "ipython3",
   "version": "3.10.12"
  }
 },
 "nbformat": 4,
 "nbformat_minor": 5
}
